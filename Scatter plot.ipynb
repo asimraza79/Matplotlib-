{
 "cells": [
  {
   "cell_type": "code",
   "execution_count": 2,
   "id": "7d0de216",
   "metadata": {},
   "outputs": [],
   "source": [
    "import matplotlib.pyplot as plt\n",
    "import pandas as pd\n",
    "#www.kaggle.com"
   ]
  },
  {
   "cell_type": "code",
   "execution_count": 4,
   "id": "91e65c38",
   "metadata": {},
   "outputs": [
    {
     "data": {
      "text/plain": [
       "(234, 17)"
      ]
     },
     "execution_count": 4,
     "metadata": {},
     "output_type": "execute_result"
    }
   ],
   "source": [
    "df_world_pop=pd.read_csv('D:\\\\Paython\\\\world_population.csv',nrows=200)\n",
    "df_world_pop.shape"
   ]
  },
  {
   "cell_type": "code",
   "execution_count": 5,
   "id": "7a97cb85",
   "metadata": {},
   "outputs": [
    {
     "data": {
      "text/plain": [
       "(200, 17)"
      ]
     },
     "execution_count": 5,
     "metadata": {},
     "output_type": "execute_result"
    }
   ],
   "source": [
    "df_world_pop=pd.read_csv('D:\\\\Paython\\\\world_population.csv',nrows=200)\n",
    "df_world_pop.shape"
   ]
  },
  {
   "cell_type": "code",
   "execution_count": 6,
   "id": "0f22b468",
   "metadata": {},
   "outputs": [
    {
     "data": {
      "text/html": [
       "<div>\n",
       "<style scoped>\n",
       "    .dataframe tbody tr th:only-of-type {\n",
       "        vertical-align: middle;\n",
       "    }\n",
       "\n",
       "    .dataframe tbody tr th {\n",
       "        vertical-align: top;\n",
       "    }\n",
       "\n",
       "    .dataframe thead th {\n",
       "        text-align: right;\n",
       "    }\n",
       "</style>\n",
       "<table border=\"1\" class=\"dataframe\">\n",
       "  <thead>\n",
       "    <tr style=\"text-align: right;\">\n",
       "      <th></th>\n",
       "      <th>Rank</th>\n",
       "      <th>CCA3</th>\n",
       "      <th>Country</th>\n",
       "      <th>Capital</th>\n",
       "      <th>Continent</th>\n",
       "      <th>2022 Population</th>\n",
       "      <th>2020 Population</th>\n",
       "      <th>2015 Population</th>\n",
       "      <th>2010 Population</th>\n",
       "      <th>2000 Population</th>\n",
       "      <th>1990 Population</th>\n",
       "      <th>1980 Population</th>\n",
       "      <th>1970 Population</th>\n",
       "      <th>Area (km²)</th>\n",
       "      <th>Density (per km²)</th>\n",
       "      <th>Growth Rate</th>\n",
       "      <th>World Population Percentage</th>\n",
       "    </tr>\n",
       "  </thead>\n",
       "  <tbody>\n",
       "    <tr>\n",
       "      <th>0</th>\n",
       "      <td>36</td>\n",
       "      <td>AFG</td>\n",
       "      <td>Afghanistan</td>\n",
       "      <td>Kabul</td>\n",
       "      <td>Asia</td>\n",
       "      <td>41128771</td>\n",
       "      <td>38972230</td>\n",
       "      <td>33753499</td>\n",
       "      <td>28189672</td>\n",
       "      <td>19542982</td>\n",
       "      <td>10694796</td>\n",
       "      <td>12486631</td>\n",
       "      <td>10752971</td>\n",
       "      <td>652230</td>\n",
       "      <td>63.0587</td>\n",
       "      <td>1.0257</td>\n",
       "      <td>0.52</td>\n",
       "    </tr>\n",
       "    <tr>\n",
       "      <th>1</th>\n",
       "      <td>138</td>\n",
       "      <td>ALB</td>\n",
       "      <td>Albania</td>\n",
       "      <td>Tirana</td>\n",
       "      <td>Europe</td>\n",
       "      <td>2842321</td>\n",
       "      <td>2866849</td>\n",
       "      <td>2882481</td>\n",
       "      <td>2913399</td>\n",
       "      <td>3182021</td>\n",
       "      <td>3295066</td>\n",
       "      <td>2941651</td>\n",
       "      <td>2324731</td>\n",
       "      <td>28748</td>\n",
       "      <td>98.8702</td>\n",
       "      <td>0.9957</td>\n",
       "      <td>0.04</td>\n",
       "    </tr>\n",
       "    <tr>\n",
       "      <th>2</th>\n",
       "      <td>34</td>\n",
       "      <td>DZA</td>\n",
       "      <td>Algeria</td>\n",
       "      <td>Algiers</td>\n",
       "      <td>Africa</td>\n",
       "      <td>44903225</td>\n",
       "      <td>43451666</td>\n",
       "      <td>39543154</td>\n",
       "      <td>35856344</td>\n",
       "      <td>30774621</td>\n",
       "      <td>25518074</td>\n",
       "      <td>18739378</td>\n",
       "      <td>13795915</td>\n",
       "      <td>2381741</td>\n",
       "      <td>18.8531</td>\n",
       "      <td>1.0164</td>\n",
       "      <td>0.56</td>\n",
       "    </tr>\n",
       "    <tr>\n",
       "      <th>3</th>\n",
       "      <td>213</td>\n",
       "      <td>ASM</td>\n",
       "      <td>American Samoa</td>\n",
       "      <td>Pago Pago</td>\n",
       "      <td>Oceania</td>\n",
       "      <td>44273</td>\n",
       "      <td>46189</td>\n",
       "      <td>51368</td>\n",
       "      <td>54849</td>\n",
       "      <td>58230</td>\n",
       "      <td>47818</td>\n",
       "      <td>32886</td>\n",
       "      <td>27075</td>\n",
       "      <td>199</td>\n",
       "      <td>222.4774</td>\n",
       "      <td>0.9831</td>\n",
       "      <td>0.00</td>\n",
       "    </tr>\n",
       "    <tr>\n",
       "      <th>4</th>\n",
       "      <td>203</td>\n",
       "      <td>AND</td>\n",
       "      <td>Andorra</td>\n",
       "      <td>Andorra la Vella</td>\n",
       "      <td>Europe</td>\n",
       "      <td>79824</td>\n",
       "      <td>77700</td>\n",
       "      <td>71746</td>\n",
       "      <td>71519</td>\n",
       "      <td>66097</td>\n",
       "      <td>53569</td>\n",
       "      <td>35611</td>\n",
       "      <td>19860</td>\n",
       "      <td>468</td>\n",
       "      <td>170.5641</td>\n",
       "      <td>1.0100</td>\n",
       "      <td>0.00</td>\n",
       "    </tr>\n",
       "    <tr>\n",
       "      <th>...</th>\n",
       "      <td>...</td>\n",
       "      <td>...</td>\n",
       "      <td>...</td>\n",
       "      <td>...</td>\n",
       "      <td>...</td>\n",
       "      <td>...</td>\n",
       "      <td>...</td>\n",
       "      <td>...</td>\n",
       "      <td>...</td>\n",
       "      <td>...</td>\n",
       "      <td>...</td>\n",
       "      <td>...</td>\n",
       "      <td>...</td>\n",
       "      <td>...</td>\n",
       "      <td>...</td>\n",
       "      <td>...</td>\n",
       "      <td>...</td>\n",
       "    </tr>\n",
       "    <tr>\n",
       "      <th>195</th>\n",
       "      <td>86</td>\n",
       "      <td>SSD</td>\n",
       "      <td>South Sudan</td>\n",
       "      <td>Juba</td>\n",
       "      <td>Africa</td>\n",
       "      <td>10913164</td>\n",
       "      <td>10606227</td>\n",
       "      <td>11194299</td>\n",
       "      <td>9714419</td>\n",
       "      <td>6114440</td>\n",
       "      <td>4750817</td>\n",
       "      <td>4192011</td>\n",
       "      <td>3342410</td>\n",
       "      <td>619745</td>\n",
       "      <td>17.6091</td>\n",
       "      <td>1.0153</td>\n",
       "      <td>0.14</td>\n",
       "    </tr>\n",
       "    <tr>\n",
       "      <th>196</th>\n",
       "      <td>30</td>\n",
       "      <td>ESP</td>\n",
       "      <td>Spain</td>\n",
       "      <td>Madrid</td>\n",
       "      <td>Europe</td>\n",
       "      <td>47558630</td>\n",
       "      <td>47363807</td>\n",
       "      <td>46431342</td>\n",
       "      <td>46572772</td>\n",
       "      <td>40741651</td>\n",
       "      <td>38889889</td>\n",
       "      <td>37491666</td>\n",
       "      <td>33792617</td>\n",
       "      <td>505992</td>\n",
       "      <td>93.9909</td>\n",
       "      <td>1.0015</td>\n",
       "      <td>0.60</td>\n",
       "    </tr>\n",
       "    <tr>\n",
       "      <th>197</th>\n",
       "      <td>61</td>\n",
       "      <td>LKA</td>\n",
       "      <td>Sri Lanka</td>\n",
       "      <td>Colombo</td>\n",
       "      <td>Asia</td>\n",
       "      <td>21832143</td>\n",
       "      <td>21715079</td>\n",
       "      <td>21336697</td>\n",
       "      <td>20668557</td>\n",
       "      <td>18776371</td>\n",
       "      <td>17204094</td>\n",
       "      <td>14943645</td>\n",
       "      <td>12388769</td>\n",
       "      <td>65610</td>\n",
       "      <td>332.7563</td>\n",
       "      <td>1.0027</td>\n",
       "      <td>0.27</td>\n",
       "    </tr>\n",
       "    <tr>\n",
       "      <th>198</th>\n",
       "      <td>32</td>\n",
       "      <td>SDN</td>\n",
       "      <td>Sudan</td>\n",
       "      <td>Khartoum</td>\n",
       "      <td>Africa</td>\n",
       "      <td>46874204</td>\n",
       "      <td>44440486</td>\n",
       "      <td>38171178</td>\n",
       "      <td>33739933</td>\n",
       "      <td>26298773</td>\n",
       "      <td>21090886</td>\n",
       "      <td>16673586</td>\n",
       "      <td>11305206</td>\n",
       "      <td>1886068</td>\n",
       "      <td>24.8529</td>\n",
       "      <td>1.0267</td>\n",
       "      <td>0.59</td>\n",
       "    </tr>\n",
       "    <tr>\n",
       "      <th>199</th>\n",
       "      <td>170</td>\n",
       "      <td>SUR</td>\n",
       "      <td>Suriname</td>\n",
       "      <td>Paramaribo</td>\n",
       "      <td>South America</td>\n",
       "      <td>618040</td>\n",
       "      <td>607065</td>\n",
       "      <td>575475</td>\n",
       "      <td>546080</td>\n",
       "      <td>478998</td>\n",
       "      <td>412756</td>\n",
       "      <td>375112</td>\n",
       "      <td>379918</td>\n",
       "      <td>163820</td>\n",
       "      <td>3.7727</td>\n",
       "      <td>1.0082</td>\n",
       "      <td>0.01</td>\n",
       "    </tr>\n",
       "  </tbody>\n",
       "</table>\n",
       "<p>200 rows × 17 columns</p>\n",
       "</div>"
      ],
      "text/plain": [
       "     Rank CCA3         Country           Capital      Continent  \\\n",
       "0      36  AFG     Afghanistan             Kabul           Asia   \n",
       "1     138  ALB         Albania            Tirana         Europe   \n",
       "2      34  DZA         Algeria           Algiers         Africa   \n",
       "3     213  ASM  American Samoa         Pago Pago        Oceania   \n",
       "4     203  AND         Andorra  Andorra la Vella         Europe   \n",
       "..    ...  ...             ...               ...            ...   \n",
       "195    86  SSD     South Sudan              Juba         Africa   \n",
       "196    30  ESP           Spain            Madrid         Europe   \n",
       "197    61  LKA       Sri Lanka           Colombo           Asia   \n",
       "198    32  SDN           Sudan          Khartoum         Africa   \n",
       "199   170  SUR        Suriname        Paramaribo  South America   \n",
       "\n",
       "     2022 Population  2020 Population  2015 Population  2010 Population  \\\n",
       "0           41128771         38972230         33753499         28189672   \n",
       "1            2842321          2866849          2882481          2913399   \n",
       "2           44903225         43451666         39543154         35856344   \n",
       "3              44273            46189            51368            54849   \n",
       "4              79824            77700            71746            71519   \n",
       "..               ...              ...              ...              ...   \n",
       "195         10913164         10606227         11194299          9714419   \n",
       "196         47558630         47363807         46431342         46572772   \n",
       "197         21832143         21715079         21336697         20668557   \n",
       "198         46874204         44440486         38171178         33739933   \n",
       "199           618040           607065           575475           546080   \n",
       "\n",
       "     2000 Population  1990 Population  1980 Population  1970 Population  \\\n",
       "0           19542982         10694796         12486631         10752971   \n",
       "1            3182021          3295066          2941651          2324731   \n",
       "2           30774621         25518074         18739378         13795915   \n",
       "3              58230            47818            32886            27075   \n",
       "4              66097            53569            35611            19860   \n",
       "..               ...              ...              ...              ...   \n",
       "195          6114440          4750817          4192011          3342410   \n",
       "196         40741651         38889889         37491666         33792617   \n",
       "197         18776371         17204094         14943645         12388769   \n",
       "198         26298773         21090886         16673586         11305206   \n",
       "199           478998           412756           375112           379918   \n",
       "\n",
       "     Area (km²)  Density (per km²)  Growth Rate  World Population Percentage  \n",
       "0        652230            63.0587       1.0257                         0.52  \n",
       "1         28748            98.8702       0.9957                         0.04  \n",
       "2       2381741            18.8531       1.0164                         0.56  \n",
       "3           199           222.4774       0.9831                         0.00  \n",
       "4           468           170.5641       1.0100                         0.00  \n",
       "..          ...                ...          ...                          ...  \n",
       "195      619745            17.6091       1.0153                         0.14  \n",
       "196      505992            93.9909       1.0015                         0.60  \n",
       "197       65610           332.7563       1.0027                         0.27  \n",
       "198     1886068            24.8529       1.0267                         0.59  \n",
       "199      163820             3.7727       1.0082                         0.01  \n",
       "\n",
       "[200 rows x 17 columns]"
      ]
     },
     "execution_count": 6,
     "metadata": {},
     "output_type": "execute_result"
    }
   ],
   "source": [
    "df_world_pop"
   ]
  },
  {
   "cell_type": "code",
   "execution_count": 14,
   "id": "b3f10b10",
   "metadata": {},
   "outputs": [],
   "source": [
    "x=df_world_pop['Area (km²)']\n",
    "y=df_world_pop['World Population Percentage']"
   ]
  },
  {
   "cell_type": "code",
   "execution_count": 15,
   "id": "64a24037",
   "metadata": {},
   "outputs": [
    {
     "data": {
      "text/plain": [
       "<matplotlib.collections.PathCollection at 0x2a1cc643c70>"
      ]
     },
     "execution_count": 15,
     "metadata": {},
     "output_type": "execute_result"
    },
    {
     "data": {
      "image/png": "[encoded data removed]",
      "text/plain": [
       "<Figure size 432x288 with 1 Axes>"
      ]
     },
     "metadata": {
      "needs_background": "light"
     },
     "output_type": "display_data"
    }
   ],
   "source": [
    "plt.scatter(x,y)"
   ]
  },
  {
   "cell_type": "code",
   "execution_count": 20,
   "id": "7294f607",
   "metadata": {},
   "outputs": [
    {
     "data": {
      "text/plain": [
       "Text(0, 0.5, 'World Population Percentage')"
      ]
     },
     "execution_count": 20,
     "metadata": {},
     "output_type": "execute_result"
    },
    {
     "data": {
      "image/png": "[encoded data removed]",
      "text/plain": [
       "<Figure size 432x288 with 1 Axes>"
      ]
     },
     "metadata": {
      "needs_background": "light"
     },
     "output_type": "display_data"
    }
   ],
   "source": [
    "plt.scatter(x,y ,c='r',)\n",
    "plt.title('World Population',fontsize=20.0)\n",
    "plt.xlabel('Area (km²)')\n",
    "plt.ylabel('World Population Percentage')"
   ]
  },
  {
   "cell_type": "code",
   "execution_count": 28,
   "id": "85e6f76a",
   "metadata": {},
   "outputs": [
    {
     "data": {
      "text/plain": [
       "Text(0, 0.5, 'World Population Percentage')"
      ]
     },
     "execution_count": 28,
     "metadata": {},
     "output_type": "execute_result"
    },
    {
     "data": {
      "image/png": "[encoded data removed]",
      "text/plain": [
       "<Figure size 720x360 with 1 Axes>"
      ]
     },
     "metadata": {
      "needs_background": "light"
     },
     "output_type": "display_data"
    }
   ],
   "source": [
    "plt.figure(figsize=(10,5))\n",
    "plt.scatter(x,y ,c='r',marker='*',s=100, edgecolor='g',linewidths=8)\n",
    "plt.title('World Population',fontsize=20.0)\n",
    "plt.xlabel('Area (km²)')\n",
    "plt.ylabel('World Population Percentage')"
   ]
  },
  {
   "cell_type": "code",
   "execution_count": 32,
   "id": "b537e92f",
   "metadata": {},
   "outputs": [
    {
     "data": {
      "text/plain": [
       "Text(0, 0.5, 'World Population Percentage')"
      ]
     },
     "execution_count": 32,
     "metadata": {},
     "output_type": "execute_result"
    },
    {
     "data": {
      "image/png": "[encoded data removed]",
      "text/plain": [
       "<Figure size 720x360 with 1 Axes>"
      ]
     },
     "metadata": {
      "needs_background": "light"
     },
     "output_type": "display_data"
    }
   ],
   "source": [
    "plt.figure(figsize=(10,5))\n",
    "plt.scatter(x,y ,c='b',s=100)\n",
    "plt.title('World Population',fontsize=20.0)\n",
    "plt.xlabel('Area (km²)',fontsize=15)\n",
    "plt.ylabel('World Population Percentage',fontsize=15)"
   ]
  },
  {
   "cell_type": "code",
   "execution_count": 44,
   "id": "f90ae2e7",
   "metadata": {},
   "outputs": [
    {
     "data": {
      "text/plain": [
       "Text(0.5, 0, 'Area (km²)')"
      ]
     },
     "execution_count": 44,
     "metadata": {},
     "output_type": "execute_result"
    },
    {
     "data": {
      "image/png": "[encoded data removed]",
      "text/plain": [
       "<Figure size 720x360 with 1 Axes>"
      ]
     },
     "metadata": {
      "needs_background": "light"
     },
     "output_type": "display_data"
    }
   ],
   "source": [
    "plt.figure(figsize=(10,5))\n",
    "plt.scatter(x,y ,c='b',s=100,linewidths=8,edgecolors='m', alpha=0.5)\n",
    "plt.scatter(x, df_world_pop['Growth Rate'],c='r',s=100,linewidths=8,edgecolors='y', alpha=0.5)\n",
    "plt.title('World Population & Growth Rate',fontsize=20.0)\n",
    "plt.xlabel('Area (km²)',fontsize=15)\n",
    "#plt.ylabel('World Population Percentage & Growth Rate',fontsize=15"
   ]
  },
  {
   "cell_type": "code",
   "execution_count": null,
   "id": "c00ee106",
   "metadata": {},
   "outputs": [],
   "source": []
  },
  {
   "cell_type": "code",
   "execution_count": null,
   "id": "dd1ca6df",
   "metadata": {},
   "outputs": [],
   "source": []
  }
 ],
 "metadata": {
  "kernelspec": {
   "display_name": "Python 3 (ipykernel)",
   "language": "python",
   "name": "python3"
  },
  "language_info": {
   "codemirror_mode": {
    "name": "ipython",
    "version": 3
   },
   "file_extension": ".py",
   "mimetype": "text/x-python",
   "name": "python",
   "nbconvert_exporter": "python",
   "pygments_lexer": "ipython3",
   "version": "3.9.12"
  }
 },
 "nbformat": 4,
 "nbformat_minor": 5
}
